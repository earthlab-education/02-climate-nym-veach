{
 "cells": [
  {
   "cell_type": "markdown",
   "id": "286c79e9",
   "metadata": {},
   "source": [
    "## Climate Change Portfolio Assignment"
   ]
  },
  {
   "cell_type": "markdown",
   "id": "2ac012d6",
   "metadata": {},
   "source": [
    "Part 2 - Wrangle Data for Personal Portfolio Site Location - Lake Superior, Minnesota / Grand Marais Weather Station on shoreline as proxy for on lake weather conditions."
   ]
  },
  {
   "cell_type": "code",
   "execution_count": 13,
   "id": "340ac44a",
   "metadata": {},
   "outputs": [],
   "source": [
    "# Import libraries\n",
    "import earthpy # Manage local data\n",
    "import pandas as pd #Work with tabular data"
   ]
  },
  {
   "cell_type": "code",
   "execution_count": 14,
   "id": "b64018a0",
   "metadata": {},
   "outputs": [],
   "source": [
    "# Restore variables from downloading data\n",
    "%store -r grand_marais_raw_climate_df\n",
    "%store -r grand_marais_ncei_url"
   ]
  },
  {
   "cell_type": "code",
   "execution_count": 15,
   "id": "0070f9b0",
   "metadata": {},
   "outputs": [
    {
     "name": "stdout",
     "output_type": "stream",
     "text": [
      "<class 'pandas.core.frame.DataFrame'>\n",
      "DatetimeIndex: 35921 entries, 1920-03-01 to 2020-12-31\n",
      "Data columns (total 2 columns):\n",
      " #   Column   Non-Null Count  Dtype  \n",
      "---  ------   --------------  -----  \n",
      " 0   STATION  35921 non-null  object \n",
      " 1   TOBS     34283 non-null  float64\n",
      "dtypes: float64(1), object(1)\n",
      "memory usage: 841.9+ KB\n"
     ]
    }
   ],
   "source": [
    "# Get information on raw data frame\n",
    "grand_marais_raw_climate_df.info()"
   ]
  },
  {
   "cell_type": "code",
   "execution_count": 16,
   "id": "0e678c9b",
   "metadata": {},
   "outputs": [
    {
     "data": {
      "text/plain": [
       "pandas.core.frame.DataFrame"
      ]
     },
     "execution_count": 16,
     "metadata": {},
     "output_type": "execute_result"
    }
   ],
   "source": [
    "# Check that data was imported into a pandas DataFrame\n",
    "type(grand_marais_raw_climate_df)"
   ]
  },
  {
   "cell_type": "code",
   "execution_count": 17,
   "id": "3c9a7013",
   "metadata": {},
   "outputs": [
    {
     "data": {
      "text/html": [
       "<div>\n",
       "<style scoped>\n",
       "    .dataframe tbody tr th:only-of-type {\n",
       "        vertical-align: middle;\n",
       "    }\n",
       "\n",
       "    .dataframe tbody tr th {\n",
       "        vertical-align: top;\n",
       "    }\n",
       "\n",
       "    .dataframe thead th {\n",
       "        text-align: right;\n",
       "    }\n",
       "</style>\n",
       "<table border=\"1\" class=\"dataframe\">\n",
       "  <thead>\n",
       "    <tr style=\"text-align: right;\">\n",
       "      <th></th>\n",
       "      <th>TOBS</th>\n",
       "    </tr>\n",
       "    <tr>\n",
       "      <th>DATE</th>\n",
       "      <th></th>\n",
       "    </tr>\n",
       "  </thead>\n",
       "  <tbody>\n",
       "    <tr>\n",
       "      <th>1920-03-01</th>\n",
       "      <td>NaN</td>\n",
       "    </tr>\n",
       "    <tr>\n",
       "      <th>1920-03-02</th>\n",
       "      <td>16.0</td>\n",
       "    </tr>\n",
       "    <tr>\n",
       "      <th>1920-03-03</th>\n",
       "      <td>25.0</td>\n",
       "    </tr>\n",
       "    <tr>\n",
       "      <th>1920-03-04</th>\n",
       "      <td>10.0</td>\n",
       "    </tr>\n",
       "    <tr>\n",
       "      <th>1920-03-05</th>\n",
       "      <td>12.0</td>\n",
       "    </tr>\n",
       "    <tr>\n",
       "      <th>...</th>\n",
       "      <td>...</td>\n",
       "    </tr>\n",
       "    <tr>\n",
       "      <th>2020-12-27</th>\n",
       "      <td>17.0</td>\n",
       "    </tr>\n",
       "    <tr>\n",
       "      <th>2020-12-28</th>\n",
       "      <td>15.0</td>\n",
       "    </tr>\n",
       "    <tr>\n",
       "      <th>2020-12-29</th>\n",
       "      <td>2.0</td>\n",
       "    </tr>\n",
       "    <tr>\n",
       "      <th>2020-12-30</th>\n",
       "      <td>23.0</td>\n",
       "    </tr>\n",
       "    <tr>\n",
       "      <th>2020-12-31</th>\n",
       "      <td>10.0</td>\n",
       "    </tr>\n",
       "  </tbody>\n",
       "</table>\n",
       "<p>35921 rows × 1 columns</p>\n",
       "</div>"
      ],
      "text/plain": [
       "            TOBS\n",
       "DATE            \n",
       "1920-03-01   NaN\n",
       "1920-03-02  16.0\n",
       "1920-03-03  25.0\n",
       "1920-03-04  10.0\n",
       "1920-03-05  12.0\n",
       "...          ...\n",
       "2020-12-27  17.0\n",
       "2020-12-28  15.0\n",
       "2020-12-29   2.0\n",
       "2020-12-30  23.0\n",
       "2020-12-31  10.0\n",
       "\n",
       "[35921 rows x 1 columns]"
      ]
     },
     "execution_count": 17,
     "metadata": {},
     "output_type": "execute_result"
    }
   ],
   "source": [
    "# Retrieve temperature column only\n",
    "grand_marais_climate_df = grand_marais_raw_climate_df[[\"TOBS\"]]\n",
    "\n",
    "# Call data frame with only temp\n",
    "grand_marais_climate_df"
   ]
  },
  {
   "cell_type": "code",
   "execution_count": 18,
   "id": "1bcc6e66",
   "metadata": {},
   "outputs": [
    {
     "name": "stdout",
     "output_type": "stream",
     "text": [
      "Stored 'grand_marais_climate_df' (DataFrame)\n",
      "Stored 'grand_marais_raw_climate_df' (DataFrame)\n"
     ]
    }
   ],
   "source": [
    "# Store variables \n",
    "%store grand_marais_climate_df grand_marais_raw_climate_df"
   ]
  }
 ],
 "metadata": {
  "kernelspec": {
   "display_name": "base",
   "language": "python",
   "name": "python3"
  },
  "language_info": {
   "codemirror_mode": {
    "name": "ipython",
    "version": 3
   },
   "file_extension": ".py",
   "mimetype": "text/x-python",
   "name": "python",
   "nbconvert_exporter": "python",
   "pygments_lexer": "ipython3",
   "version": "3.11.6"
  }
 },
 "nbformat": 4,
 "nbformat_minor": 5
}
